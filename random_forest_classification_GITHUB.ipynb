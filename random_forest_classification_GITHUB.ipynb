{
  "nbformat": 4,
  "nbformat_minor": 0,
  "metadata": {
    "colab": {
      "name": " random_forest_classification_GITHUB.ipynb",
      "provenance": [],
      "collapsed_sections": [],
      "machine_shape": "hm",
      "include_colab_link": true
    },
    "kernelspec": {
      "name": "python3",
      "display_name": "Python 3"
    }
  },
  "cells": [
    {
      "cell_type": "markdown",
      "metadata": {
        "id": "view-in-github",
        "colab_type": "text"
      },
      "source": [
        "<a href=\"https://colab.research.google.com/github/mahdiskj/DT_RFclassifier/blob/main/random_forest_classification_GITHUB.ipynb\" target=\"_parent\"><img src=\"https://colab.research.google.com/assets/colab-badge.svg\" alt=\"Open In Colab\"/></a>"
      ]
    },
    {
      "cell_type": "markdown",
      "metadata": {
        "id": "0MRC0e0KhQ0S"
      },
      "source": [
        "# Random Forest Classification"
      ]
    },
    {
      "cell_type": "markdown",
      "metadata": {
        "id": "LWd1UlMnhT2s"
      },
      "source": [
        "## Importing the libraries"
      ]
    },
    {
      "cell_type": "code",
      "metadata": {
        "id": "YvGPUQaHhXfL"
      },
      "source": [
        "import numpy as np\n",
        "import matplotlib.pyplot as plt\n",
        "import pandas as pd"
      ],
      "execution_count": 55,
      "outputs": []
    },
    {
      "cell_type": "markdown",
      "metadata": {
        "id": "K1VMqkGvhc3-"
      },
      "source": [
        "## Importing the dataset"
      ]
    },
    {
      "cell_type": "code",
      "metadata": {
        "id": "M52QDmyzhh9s"
      },
      "source": [
        "dataset = pd.read_csv('500_Person_Gender_Height_Weight_Index.csv')\n",
        "X = dataset.iloc[:, :-1].values\n",
        "y = dataset.iloc[:, -1].values"
      ],
      "execution_count": 56,
      "outputs": []
    },
    {
      "cell_type": "markdown",
      "metadata": {
        "id": "814k8VHYk36b"
      },
      "source": [
        "#Encoding categorical data"
      ]
    },
    {
      "cell_type": "code",
      "metadata": {
        "id": "ErohjQ4Ik2SL"
      },
      "source": [
        "from sklearn.compose import ColumnTransformer\r\n",
        "from sklearn.preprocessing import OneHotEncoder\r\n",
        "# encoder : type of transformation | OneHotEncoder: the type of encoding | [0]: the index of the column we want to perform OneHotEncoding\r\n",
        "# passthrough : wewant to keep the values that aren't transformed, unless they are deleted\r\n",
        "ct = ColumnTransformer(transformers=[('encoder', OneHotEncoder(), [0])], remainder='passthrough')\r\n",
        "# the machine learning method expects the matrix of features as a numpy array:\r\n",
        "X = np.array(ct.fit_transform(X))"
      ],
      "execution_count": 57,
      "outputs": []
    },
    {
      "cell_type": "markdown",
      "metadata": {
        "id": "YvxIPVyMhmKp"
      },
      "source": [
        "## Splitting the dataset into the Training set and Test set"
      ]
    },
    {
      "cell_type": "code",
      "metadata": {
        "id": "AVzJWAXIhxoC"
      },
      "source": [
        "from sklearn.model_selection import train_test_split\n",
        "X_train, X_test, y_train, y_test = train_test_split(X, y, test_size = 0.2, random_state = 0)"
      ],
      "execution_count": 58,
      "outputs": []
    },
    {
      "cell_type": "code",
      "metadata": {
        "colab": {
          "base_uri": "https://localhost:8080/"
        },
        "id": "uyoiSMjQlHGT",
        "outputId": "cd1bdbda-fb9f-4858-bf57-dfe4084dae93"
      },
      "source": [
        "print(X_train)\r\n",
        "print(X_test)"
      ],
      "execution_count": 59,
      "outputs": [
        {
          "output_type": "stream",
          "text": [
            "[[0.0 1.0 159 154]\n",
            " [1.0 0.0 167 153]\n",
            " [0.0 1.0 178 117]\n",
            " ...\n",
            " [1.0 0.0 146 104]\n",
            " [0.0 1.0 181 111]\n",
            " [0.0 1.0 167 151]]\n",
            "[[1.0 0.0 178 154]\n",
            " [0.0 1.0 183 147]\n",
            " [0.0 1.0 166 107]\n",
            " [0.0 1.0 159 140]\n",
            " [0.0 1.0 152 132]\n",
            " [1.0 0.0 153 107]\n",
            " [0.0 1.0 188 99]\n",
            " [1.0 0.0 179 150]\n",
            " [0.0 1.0 181 105]\n",
            " [1.0 0.0 168 140]\n",
            " [0.0 1.0 166 61]\n",
            " [0.0 1.0 153 70]\n",
            " [1.0 0.0 167 58]\n",
            " [0.0 1.0 149 100]\n",
            " [0.0 1.0 174 138]\n",
            " [1.0 0.0 185 102]\n",
            " [0.0 1.0 161 115]\n",
            " [0.0 1.0 174 90]\n",
            " [1.0 0.0 155 111]\n",
            " [0.0 1.0 144 80]\n",
            " [1.0 0.0 150 87]\n",
            " [1.0 0.0 185 94]\n",
            " [0.0 1.0 178 85]\n",
            " [1.0 0.0 181 106]\n",
            " [0.0 1.0 185 76]\n",
            " [0.0 1.0 188 65]\n",
            " [1.0 0.0 153 149]\n",
            " [1.0 0.0 186 127]\n",
            " [0.0 1.0 142 69]\n",
            " [1.0 0.0 177 81]\n",
            " [1.0 0.0 153 77]\n",
            " [0.0 1.0 144 108]\n",
            " [1.0 0.0 158 149]\n",
            " [0.0 1.0 154 100]\n",
            " [0.0 1.0 174 95]\n",
            " [1.0 0.0 198 50]\n",
            " [1.0 0.0 180 156]\n",
            " [1.0 0.0 172 90]\n",
            " [0.0 1.0 184 153]\n",
            " [1.0 0.0 174 65]\n",
            " [0.0 1.0 153 104]\n",
            " [1.0 0.0 188 122]\n",
            " [0.0 1.0 169 110]\n",
            " [0.0 1.0 183 138]\n",
            " [0.0 1.0 165 104]\n",
            " [0.0 1.0 189 87]\n",
            " [1.0 0.0 196 159]\n",
            " [1.0 0.0 148 54]\n",
            " [0.0 1.0 162 130]\n",
            " [0.0 1.0 161 155]\n",
            " [1.0 0.0 195 147]\n",
            " [0.0 1.0 187 136]\n",
            " [0.0 1.0 179 83]\n",
            " [0.0 1.0 140 79]\n",
            " [1.0 0.0 158 153]\n",
            " [1.0 0.0 192 101]\n",
            " [1.0 0.0 167 85]\n",
            " [1.0 0.0 196 131]\n",
            " [0.0 1.0 188 54]\n",
            " [1.0 0.0 154 92]\n",
            " [1.0 0.0 176 122]\n",
            " [1.0 0.0 179 114]\n",
            " [1.0 0.0 160 83]\n",
            " [1.0 0.0 180 59]\n",
            " [0.0 1.0 182 108]\n",
            " [0.0 1.0 157 74]\n",
            " [0.0 1.0 195 81]\n",
            " [0.0 1.0 198 109]\n",
            " [0.0 1.0 152 103]\n",
            " [1.0 0.0 197 154]\n",
            " [0.0 1.0 180 149]\n",
            " [1.0 0.0 179 158]\n",
            " [1.0 0.0 155 71]\n",
            " [1.0 0.0 188 115]\n",
            " [1.0 0.0 185 119]\n",
            " [1.0 0.0 151 158]\n",
            " [0.0 1.0 147 84]\n",
            " [0.0 1.0 199 156]\n",
            " [1.0 0.0 146 147]\n",
            " [0.0 1.0 160 156]\n",
            " [1.0 0.0 186 140]\n",
            " [0.0 1.0 170 81]\n",
            " [0.0 1.0 183 131]\n",
            " [0.0 1.0 159 109]\n",
            " [1.0 0.0 164 160]\n",
            " [1.0 0.0 199 92]\n",
            " [0.0 1.0 140 146]\n",
            " [0.0 1.0 168 160]\n",
            " [0.0 1.0 178 138]\n",
            " [0.0 1.0 196 116]\n",
            " [1.0 0.0 173 82]\n",
            " [0.0 1.0 182 70]\n",
            " [0.0 1.0 176 87]\n",
            " [0.0 1.0 184 57]\n",
            " [0.0 1.0 188 100]\n",
            " [0.0 1.0 185 60]\n",
            " [0.0 1.0 172 92]\n",
            " [1.0 0.0 172 116]\n",
            " [1.0 0.0 191 54]\n",
            " [0.0 1.0 191 96]]\n"
          ],
          "name": "stdout"
        }
      ]
    },
    {
      "cell_type": "markdown",
      "metadata": {
        "id": "kW3c7UYih0hT"
      },
      "source": [
        "## Feature Scaling"
      ]
    },
    {
      "cell_type": "code",
      "metadata": {
        "id": "9fQlDPKCh8sc"
      },
      "source": [
        "from sklearn.preprocessing import StandardScaler\n",
        "sc = StandardScaler()\n",
        "X_train = sc.fit_transform(X_train)\n",
        "X_test = sc.transform(X_test)"
      ],
      "execution_count": 60,
      "outputs": []
    },
    {
      "cell_type": "code",
      "metadata": {
        "colab": {
          "base_uri": "https://localhost:8080/"
        },
        "id": "AKvNa6rZlVVC",
        "outputId": "97451fda-26b8-4b2a-ab58-e679bca97fc7"
      },
      "source": [
        "print(X_train)\r\n",
        "print(X_test)"
      ],
      "execution_count": 61,
      "outputs": [
        {
          "output_type": "stream",
          "text": [
            "[[-1.05131497  1.05131497 -0.63012682  1.49496019]\n",
            " [ 0.95118973 -0.95118973 -0.14165642  1.46416643]\n",
            " [-1.05131497  1.05131497  0.52999039  0.35559097]\n",
            " ...\n",
            " [ 0.95118973 -0.95118973 -1.42389123 -0.04472794]\n",
            " [-1.05131497  1.05131497  0.71316679  0.1708284 ]\n",
            " [-1.05131497  1.05131497 -0.14165642  1.40257891]]\n",
            "[[ 0.95118973 -0.95118973  0.52999039  1.49496019]\n",
            " [-1.05131497  1.05131497  0.83528439  1.27940385]\n",
            " [-1.05131497  1.05131497 -0.20271522  0.04765335]\n",
            " [-1.05131497  1.05131497 -0.63012682  1.06384752]\n",
            " [-1.05131497  1.05131497 -1.05753842  0.81749741]\n",
            " [ 0.95118973 -0.95118973 -0.99647962  0.04765335]\n",
            " [-1.05131497  1.05131497  1.14057839 -0.19869675]\n",
            " [ 0.95118973 -0.95118973  0.59104919  1.37178514]\n",
            " [-1.05131497  1.05131497  0.71316679 -0.01393418]\n",
            " [ 0.95118973 -0.95118973 -0.08059762  1.06384752]\n",
            " [-1.05131497  1.05131497 -0.20271522 -1.36885974]\n",
            " [-1.05131497  1.05131497 -0.99647962 -1.09171587]\n",
            " [ 0.95118973 -0.95118973 -0.14165642 -1.46124102]\n",
            " [-1.05131497  1.05131497 -1.24071483 -0.16790299]\n",
            " [-1.05131497  1.05131497  0.28575519  1.00225999]\n",
            " [ 0.95118973 -0.95118973  0.95740199 -0.10631547]\n",
            " [-1.05131497  1.05131497 -0.50800922  0.29400345]\n",
            " [-1.05131497  1.05131497  0.28575519 -0.47584062]\n",
            " [ 0.95118973 -0.95118973 -0.87436202  0.1708284 ]\n",
            " [-1.05131497  1.05131497 -1.54600883 -0.78377824]\n",
            " [ 0.95118973 -0.95118973 -1.17965603 -0.56822191]\n",
            " [ 0.95118973 -0.95118973  0.95740199 -0.35266557]\n",
            " [-1.05131497  1.05131497  0.52999039 -0.62980943]\n",
            " [ 0.95118973 -0.95118973  0.71316679  0.01685959]\n",
            " [-1.05131497  1.05131497  0.95740199 -0.9069533 ]\n",
            " [-1.05131497  1.05131497  1.14057839 -1.24568468]\n",
            " [ 0.95118973 -0.95118973 -0.99647962  1.34099138]\n",
            " [ 0.95118973 -0.95118973  1.01846079  0.6635286 ]\n",
            " [-1.05131497  1.05131497 -1.66812643 -1.12250963]\n",
            " [ 0.95118973 -0.95118973  0.46893159 -0.75298448]\n",
            " [ 0.95118973 -0.95118973 -0.99647962 -0.87615953]\n",
            " [-1.05131497  1.05131497 -1.54600883  0.07844711]\n",
            " [ 0.95118973 -0.95118973 -0.69118562  1.34099138]\n",
            " [-1.05131497  1.05131497 -0.93542082 -0.16790299]\n",
            " [-1.05131497  1.05131497  0.28575519 -0.3218718 ]\n",
            " [ 0.95118973 -0.95118973  1.7511664  -1.70759112]\n",
            " [ 0.95118973 -0.95118973  0.65210799  1.55654772]\n",
            " [ 0.95118973 -0.95118973  0.16363759 -0.47584062]\n",
            " [-1.05131497  1.05131497  0.89634319  1.46416643]\n",
            " [ 0.95118973 -0.95118973  0.28575519 -1.24568468]\n",
            " [-1.05131497  1.05131497 -0.99647962 -0.04472794]\n",
            " [ 0.95118973 -0.95118973  1.14057839  0.50955979]\n",
            " [-1.05131497  1.05131497 -0.01953882  0.14003464]\n",
            " [-1.05131497  1.05131497  0.83528439  1.00225999]\n",
            " [-1.05131497  1.05131497 -0.26377402 -0.04472794]\n",
            " [-1.05131497  1.05131497  1.20163719 -0.56822191]\n",
            " [ 0.95118973 -0.95118973  1.6290488   1.64892901]\n",
            " [ 0.95118973 -0.95118973 -1.30177363 -1.58441607]\n",
            " [-1.05131497  1.05131497 -0.44695042  0.75590989]\n",
            " [-1.05131497  1.05131497 -0.50800922  1.52575396]\n",
            " [ 0.95118973 -0.95118973  1.56799     1.27940385]\n",
            " [-1.05131497  1.05131497  1.07951959  0.94067247]\n",
            " [-1.05131497  1.05131497  0.59104919 -0.69139696]\n",
            " [-1.05131497  1.05131497 -1.79024403 -0.81457201]\n",
            " [ 0.95118973 -0.95118973 -0.69118562  1.46416643]\n",
            " [ 0.95118973 -0.95118973  1.38481359 -0.13710923]\n",
            " [ 0.95118973 -0.95118973 -0.14165642 -0.62980943]\n",
            " [ 0.95118973 -0.95118973  1.6290488   0.78670365]\n",
            " [-1.05131497  1.05131497  1.14057839 -1.58441607]\n",
            " [ 0.95118973 -0.95118973 -0.93542082 -0.41425309]\n",
            " [ 0.95118973 -0.95118973  0.40787279  0.50955979]\n",
            " [ 0.95118973 -0.95118973  0.59104919  0.26320969]\n",
            " [ 0.95118973 -0.95118973 -0.56906802 -0.69139696]\n",
            " [ 0.95118973 -0.95118973  0.65210799 -1.43044726]\n",
            " [-1.05131497  1.05131497  0.77422559  0.07844711]\n",
            " [-1.05131497  1.05131497 -0.75224442 -0.96854082]\n",
            " [-1.05131497  1.05131497  1.56799    -0.75298448]\n",
            " [-1.05131497  1.05131497  1.7511664   0.10924087]\n",
            " [-1.05131497  1.05131497 -1.05753842 -0.0755217 ]\n",
            " [ 0.95118973 -0.95118973  1.6901076   1.49496019]\n",
            " [-1.05131497  1.05131497  0.65210799  1.34099138]\n",
            " [ 0.95118973 -0.95118973  0.59104919  1.61813524]\n",
            " [ 0.95118973 -0.95118973 -0.87436202 -1.06092211]\n",
            " [ 0.95118973 -0.95118973  1.14057839  0.29400345]\n",
            " [ 0.95118973 -0.95118973  0.95740199  0.4171785 ]\n",
            " [ 0.95118973 -0.95118973 -1.11859722  1.61813524]\n",
            " [-1.05131497  1.05131497 -1.36283243 -0.66060319]\n",
            " [-1.05131497  1.05131497  1.8122252   1.55654772]\n",
            " [ 0.95118973 -0.95118973 -1.42389123  1.27940385]\n",
            " [-1.05131497  1.05131497 -0.56906802  1.55654772]\n",
            " [ 0.95118973 -0.95118973  1.01846079  1.06384752]\n",
            " [-1.05131497  1.05131497  0.04151998 -0.75298448]\n",
            " [-1.05131497  1.05131497  0.83528439  0.78670365]\n",
            " [-1.05131497  1.05131497 -0.63012682  0.10924087]\n",
            " [ 0.95118973 -0.95118973 -0.32483282  1.67972277]\n",
            " [ 0.95118973 -0.95118973  1.8122252  -0.41425309]\n",
            " [-1.05131497  1.05131497 -1.79024403  1.24861009]\n",
            " [-1.05131497  1.05131497 -0.08059762  1.67972277]\n",
            " [-1.05131497  1.05131497  0.52999039  1.00225999]\n",
            " [-1.05131497  1.05131497  1.6290488   0.32479721]\n",
            " [ 0.95118973 -0.95118973  0.22469639 -0.72219072]\n",
            " [-1.05131497  1.05131497  0.77422559 -1.09171587]\n",
            " [-1.05131497  1.05131497  0.40787279 -0.56822191]\n",
            " [-1.05131497  1.05131497  0.89634319 -1.49203479]\n",
            " [-1.05131497  1.05131497  1.14057839 -0.16790299]\n",
            " [-1.05131497  1.05131497  0.95740199 -1.3996535 ]\n",
            " [-1.05131497  1.05131497  0.16363759 -0.41425309]\n",
            " [ 0.95118973 -0.95118973  0.16363759  0.32479721]\n",
            " [ 0.95118973 -0.95118973  1.32375479 -1.58441607]\n",
            " [-1.05131497  1.05131497  1.32375479 -0.29107804]]\n"
          ],
          "name": "stdout"
        }
      ]
    },
    {
      "cell_type": "markdown",
      "metadata": {
        "id": "bb6jCOCQiAmP"
      },
      "source": [
        "## Training the Random Forest Classification model on the Training set"
      ]
    },
    {
      "cell_type": "code",
      "metadata": {
        "id": "e0pFVAmciHQs",
        "colab": {
          "base_uri": "https://localhost:8080/"
        },
        "outputId": "761676e7-e55b-4eaa-a68c-fc54fbbbb9a4"
      },
      "source": [
        "from sklearn.ensemble import RandomForestClassifier\n",
        "classifier = RandomForestClassifier(n_estimators = 45, criterion = 'entropy', random_state = 0)\n",
        "classifier.fit(X_train, y_train)"
      ],
      "execution_count": 62,
      "outputs": [
        {
          "output_type": "execute_result",
          "data": {
            "text/plain": [
              "RandomForestClassifier(bootstrap=True, ccp_alpha=0.0, class_weight=None,\n",
              "                       criterion='entropy', max_depth=None, max_features='auto',\n",
              "                       max_leaf_nodes=None, max_samples=None,\n",
              "                       min_impurity_decrease=0.0, min_impurity_split=None,\n",
              "                       min_samples_leaf=1, min_samples_split=2,\n",
              "                       min_weight_fraction_leaf=0.0, n_estimators=45,\n",
              "                       n_jobs=None, oob_score=False, random_state=0, verbose=0,\n",
              "                       warm_start=False)"
            ]
          },
          "metadata": {
            "tags": []
          },
          "execution_count": 62
        }
      ]
    },
    {
      "cell_type": "markdown",
      "metadata": {
        "id": "vKYVQH-l5NpE"
      },
      "source": [
        "## Predicting the Test set results"
      ]
    },
    {
      "cell_type": "code",
      "metadata": {
        "id": "p6VMTb2O4hwM"
      },
      "source": [
        "y_pred = classifier.predict(X_test)\n",
        "#print(np.concatenate((y_pred.reshape(len(y_pred),1), y_test.reshape(len(y_test),1)),1))"
      ],
      "execution_count": 63,
      "outputs": []
    },
    {
      "cell_type": "markdown",
      "metadata": {
        "id": "h4Hwj34ziWQW"
      },
      "source": [
        "## Making the Confusion Matrix"
      ]
    },
    {
      "cell_type": "code",
      "metadata": {
        "id": "YZXVqwBhl-DH"
      },
      "source": [
        "# Function to plot the confusion Matrix\r\n",
        "import itertools\r\n",
        "class_names=np.array(['0','1','2','3','4','5'])\r\n",
        "def plot_confusion_matrix(cm, classes,\r\n",
        "                          title='Confusion matrix',\r\n",
        "                          cmap=plt.cm.Blues):\r\n",
        "    \r\n",
        "    plt.imshow(cm, interpolation='nearest', cmap=cmap)\r\n",
        "    plt.title(title)\r\n",
        "    plt.colorbar()\r\n",
        "    tick_marks = np.arange(len(classes))\r\n",
        "    plt.xticks(tick_marks, classes, rotation=45)\r\n",
        "    plt.yticks(tick_marks, classes)\r\n",
        "\r\n",
        "    fmt = 'd' \r\n",
        "    thresh = cm.max() / 2.\r\n",
        "    for i, j in itertools.product(range(cm.shape[0]), range(cm.shape[1])):\r\n",
        "        plt.text(j, i, format(cm[i, j], fmt),\r\n",
        "                 horizontalalignment=\"center\",\r\n",
        "                 color=\"white\" if cm[i, j] > thresh else \"black\")\r\n",
        "\r\n",
        "    plt.tight_layout()\r\n",
        "    plt.ylabel('True label')\r\n",
        "    plt.xlabel('Predicted label')"
      ],
      "execution_count": 64,
      "outputs": []
    },
    {
      "cell_type": "code",
      "metadata": {
        "id": "D6bpZwUiiXic",
        "colab": {
          "base_uri": "https://localhost:8080/",
          "height": 328
        },
        "outputId": "d86607fd-23b2-42cc-eac9-cfb992718aef"
      },
      "source": [
        "from sklearn.metrics import confusion_matrix, accuracy_score\n",
        "cm = confusion_matrix(y_test, y_pred)\n",
        "plot_confusion_matrix(cm,class_names)\n",
        "accuracy = accuracy_score(y_test, y_pred)\n",
        "print(\"Accuracy: {:.2f} %\".format(accuracy*100))"
      ],
      "execution_count": 65,
      "outputs": [
        {
          "output_type": "stream",
          "text": [
            "Accuracy: 92.00 %\n"
          ],
          "name": "stdout"
        },
        {
          "output_type": "display_data",
          "data": {
            "image/png": "[encoded data removed]",
            "text/plain": [
              "<Figure size 432x288 with 2 Axes>"
            ]
          },
          "metadata": {
            "tags": [],
            "needs_background": "light"
          }
        }
      ]
    }
  ]
}